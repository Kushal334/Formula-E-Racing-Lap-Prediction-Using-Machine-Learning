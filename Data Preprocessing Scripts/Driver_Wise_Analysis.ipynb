{
 "cells": [
  {
   "cell_type": "code",
   "execution_count": 1,
   "metadata": {},
   "outputs": [],
   "source": [
    "#importing the relevant libraries\n",
    "import pandas as pd\n",
    "import numpy as np\n",
    "import os\n",
    "from glob import glob\n",
    "import sys\n",
    "pd.set_option('display.max_columns', None, 'display.max_rows', None)\n",
    "\n",
    "from IPython.core.interactiveshell import InteractiveShell\n",
    "InteractiveShell.ast_node_interactivity = \"all\"\n",
    "# pd.set_option('max_colwidth',-1)"
   ]
  },
  {
   "cell_type": "code",
   "execution_count": 13,
   "metadata": {},
   "outputs": [],
   "source": [
    "dta = pd.read_csv('./sampledata/Test/Bejing/Race/Analysis_Race.CSV', sep=\";\", encoding = \"ISO-8859-1\")\n",
    "dtc = pd.read_csv('./sampledata/Test/Bejing/Race/Classification_Race.CSV', sep=\";\", encoding = \"ISO-8859-1\")\n",
    "dtc['DRIVER_NAME'] = dtc['DRIVER_FIRSTNAME'] + \" \" + dtc['DRIVER_SECONDNAME']\n",
    "new_test = dta.merge(dtc, on=\"DRIVER_NAME\")\n",
    "new_test = new_test.rename(columns=lambda x: x.strip())"
   ]
  },
  {
   "cell_type": "code",
   "execution_count": 14,
   "metadata": {},
   "outputs": [
    {
     "data": {
      "text/plain": [
       "10"
      ]
     },
     "execution_count": 14,
     "metadata": {},
     "output_type": "execute_result"
    }
   ],
   "source": [
    "new_test = new_test.drop(columns = ['DRIVER_NUMBER', 'LAPS', 'FL_KPH', 'HOUR', 'TOTAL_TIME',\n",
    "       'NUMBER', 'DRIVER_SHORTNAME', 'S2_LARGE',\n",
    "       'FL_LAPNUM', 'VEHICLE',\n",
    "       'LAP_IMPROVEMENT', 'CLASS', 'S2_IMPROVEMENT', 'TOP_SPEED',\n",
    "       'DRIVER_COUNTRY', 'STATUS', 'ELAPSED', 'ï»¿POSITION', 'TIRES',\n",
    "       'S3_LARGE', 'GAP_PREVIOUS', 'ï»¿NUMBER',\n",
    "       'GAP_FIRST', 'DIVISION', 'DRIVER_SECONDNAME', 'DRIVER_FIRSTNAME',\n",
    "       'LAP_TIME', 'S1_IMPROVEMENT', 'DRIVER_HOMETOWN', 'FL_TIME',\n",
    "       'S1_LARGE', 'DRIVER_LICENSE', 'S3_IMPROVEMENT', 'Unnamed: 21', 'Unnamed: 22'])\n",
    "len(new_test.keys())"
   ]
  },
  {
   "cell_type": "code",
   "execution_count": 18,
   "metadata": {},
   "outputs": [],
   "source": [
    "new_test['location'] = 'Bejing'\n",
    "new_test['match_type'] = 'Race'"
   ]
  },
  {
   "cell_type": "code",
   "execution_count": 20,
   "metadata": {},
   "outputs": [
    {
     "data": {
      "text/plain": [
       "12"
      ]
     },
     "execution_count": 20,
     "metadata": {},
     "output_type": "execute_result"
    }
   ],
   "source": [
    "len(new_test.keys())"
   ]
  },
  {
   "cell_type": "code",
   "execution_count": 21,
   "metadata": {},
   "outputs": [
    {
     "name": "stderr",
     "output_type": "stream",
     "text": [
      "<ipython-input-21-c6a8297bc89c>:12: SettingWithCopyWarning: \n",
      "A value is trying to be set on a copy of a slice from a DataFrame\n",
      "\n",
      "See the caveats in the documentation: https://pandas.pydata.org/pandas-docs/stable/user_guide/indexing.html#returning-a-view-versus-a-copy\n",
      "  p[count] = \"00:\" + str(j)\n",
      "<ipython-input-21-c6a8297bc89c>:15: SettingWithCopyWarning: \n",
      "A value is trying to be set on a copy of a slice from a DataFrame\n",
      "\n",
      "See the caveats in the documentation: https://pandas.pydata.org/pandas-docs/stable/user_guide/indexing.html#returning-a-view-versus-a-copy\n",
      "  p[count] = float(p[count].split(\":\")[0])*3600000 + float(p[count].split(\":\")[1])*60000 + float(p[count].split(\":\")[2])*1000\n",
      "<ipython-input-21-c6a8297bc89c>:10: SettingWithCopyWarning: \n",
      "A value is trying to be set on a copy of a slice from a DataFrame\n",
      "\n",
      "See the caveats in the documentation: https://pandas.pydata.org/pandas-docs/stable/user_guide/indexing.html#returning-a-view-versus-a-copy\n",
      "  p[count] = \"00:00:\" + str(j)\n",
      "<ipython-input-21-c6a8297bc89c>:14: SettingWithCopyWarning: \n",
      "A value is trying to be set on a copy of a slice from a DataFrame\n",
      "\n",
      "See the caveats in the documentation: https://pandas.pydata.org/pandas-docs/stable/user_guide/indexing.html#returning-a-view-versus-a-copy\n",
      "  p[count] = \"\" + str(j)\n",
      "<ipython-input-21-c6a8297bc89c>:8: SettingWithCopyWarning: \n",
      "A value is trying to be set on a copy of a slice from a DataFrame\n",
      "\n",
      "See the caveats in the documentation: https://pandas.pydata.org/pandas-docs/stable/user_guide/indexing.html#returning-a-view-versus-a-copy\n",
      "  p[count] = \"00:00:00\"\n"
     ]
    }
   ],
   "source": [
    "import math\n",
    "\n",
    "for i in (['S1', 'S2', 'S3', 'PIT_TIME']):\n",
    "    p = new_test[i]\n",
    "    for count, j in enumerate(p):\n",
    "        x = len(str(j).split(':'))\n",
    "        if (pd.isna(j)):\n",
    "            p[count] = \"00:00:00\"\n",
    "        elif (x == 1):\n",
    "            p[count] = \"00:00:\" + str(j)\n",
    "        elif (x == 2):\n",
    "            p[count] = \"00:\" + str(j)\n",
    "        elif (x == 3):\n",
    "            p[count] = \"\" + str(j)\n",
    "        p[count] = float(p[count].split(\":\")[0])*3600000 + float(p[count].split(\":\")[1])*60000 + float(p[count].split(\":\")[2])*1000\n",
    "    new_test[i] = p\n",
    "    \n",
    "new_test[['KPH', 'S1', 'S2', 'S3', 'LAP_NUMBER', 'PIT_TIME']] = new_test[['KPH', 'S1', 'S2', 'S3', 'LAP_NUMBER', 'PIT_TIME']].apply(pd.to_numeric)"
   ]
  },
  {
   "cell_type": "code",
   "execution_count": 22,
   "metadata": {},
   "outputs": [
    {
     "data": {
      "text/html": [
       "<div>\n",
       "<style scoped>\n",
       "    .dataframe tbody tr th:only-of-type {\n",
       "        vertical-align: middle;\n",
       "    }\n",
       "\n",
       "    .dataframe tbody tr th {\n",
       "        vertical-align: top;\n",
       "    }\n",
       "\n",
       "    .dataframe thead th {\n",
       "        text-align: right;\n",
       "    }\n",
       "</style>\n",
       "<table border=\"1\" class=\"dataframe\">\n",
       "  <thead>\n",
       "    <tr style=\"text-align: right;\">\n",
       "      <th></th>\n",
       "      <th>LAP_NUMBER</th>\n",
       "      <th>CROSSING_FINISH_LINE_IN_PIT</th>\n",
       "      <th>S1</th>\n",
       "      <th>S2</th>\n",
       "      <th>S3</th>\n",
       "      <th>KPH</th>\n",
       "      <th>DRIVER_NAME</th>\n",
       "      <th>PIT_TIME</th>\n",
       "      <th>TEAM</th>\n",
       "      <th>GROUP</th>\n",
       "      <th>location</th>\n",
       "      <th>match_type</th>\n",
       "    </tr>\n",
       "  </thead>\n",
       "  <tbody>\n",
       "    <tr>\n",
       "      <th>0</th>\n",
       "      <td>1</td>\n",
       "      <td>NaN</td>\n",
       "      <td>2295917.0</td>\n",
       "      <td>37598.0</td>\n",
       "      <td>36688.0</td>\n",
       "      <td>5.2</td>\n",
       "      <td>Jarno Trulli</td>\n",
       "      <td>2259620.0</td>\n",
       "      <td>Trulli Formula E Team</td>\n",
       "      <td>1</td>\n",
       "      <td>Bejing</td>\n",
       "      <td>Race</td>\n",
       "    </tr>\n",
       "    <tr>\n",
       "      <th>1</th>\n",
       "      <td>2</td>\n",
       "      <td>NaN</td>\n",
       "      <td>39052.0</td>\n",
       "      <td>35808.0</td>\n",
       "      <td>37736.0</td>\n",
       "      <td>110.4</td>\n",
       "      <td>Jarno Trulli</td>\n",
       "      <td>0.0</td>\n",
       "      <td>Trulli Formula E Team</td>\n",
       "      <td>1</td>\n",
       "      <td>Bejing</td>\n",
       "      <td>Race</td>\n",
       "    </tr>\n",
       "    <tr>\n",
       "      <th>2</th>\n",
       "      <td>1</td>\n",
       "      <td>NaN</td>\n",
       "      <td>42306.0</td>\n",
       "      <td>36207.0</td>\n",
       "      <td>35301.0</td>\n",
       "      <td>109.2</td>\n",
       "      <td>Lucas di Grassi</td>\n",
       "      <td>0.0</td>\n",
       "      <td>Audi Sport ABT Formula E Team</td>\n",
       "      <td>3</td>\n",
       "      <td>Bejing</td>\n",
       "      <td>Race</td>\n",
       "    </tr>\n",
       "    <tr>\n",
       "      <th>3</th>\n",
       "      <td>2</td>\n",
       "      <td>NaN</td>\n",
       "      <td>39864.0</td>\n",
       "      <td>73195.0</td>\n",
       "      <td>63147.0</td>\n",
       "      <td>70.5</td>\n",
       "      <td>Lucas di Grassi</td>\n",
       "      <td>0.0</td>\n",
       "      <td>Audi Sport ABT Formula E Team</td>\n",
       "      <td>3</td>\n",
       "      <td>Bejing</td>\n",
       "      <td>Race</td>\n",
       "    </tr>\n",
       "    <tr>\n",
       "      <th>4</th>\n",
       "      <td>3</td>\n",
       "      <td>NaN</td>\n",
       "      <td>92821.0</td>\n",
       "      <td>96555.0</td>\n",
       "      <td>85762.0</td>\n",
       "      <td>45.2</td>\n",
       "      <td>Lucas di Grassi</td>\n",
       "      <td>0.0</td>\n",
       "      <td>Audi Sport ABT Formula E Team</td>\n",
       "      <td>3</td>\n",
       "      <td>Bejing</td>\n",
       "      <td>Race</td>\n",
       "    </tr>\n",
       "  </tbody>\n",
       "</table>\n",
       "</div>"
      ],
      "text/plain": [
       "   LAP_NUMBER CROSSING_FINISH_LINE_IN_PIT         S1       S2       S3    KPH  \\\n",
       "0           1                         NaN  2295917.0  37598.0  36688.0    5.2   \n",
       "1           2                         NaN    39052.0  35808.0  37736.0  110.4   \n",
       "2           1                         NaN    42306.0  36207.0  35301.0  109.2   \n",
       "3           2                         NaN    39864.0  73195.0  63147.0   70.5   \n",
       "4           3                         NaN    92821.0  96555.0  85762.0   45.2   \n",
       "\n",
       "       DRIVER_NAME   PIT_TIME                           TEAM  GROUP location  \\\n",
       "0     Jarno Trulli  2259620.0          Trulli Formula E Team      1   Bejing   \n",
       "1     Jarno Trulli        0.0          Trulli Formula E Team      1   Bejing   \n",
       "2  Lucas di Grassi        0.0  Audi Sport ABT Formula E Team      3   Bejing   \n",
       "3  Lucas di Grassi        0.0  Audi Sport ABT Formula E Team      3   Bejing   \n",
       "4  Lucas di Grassi        0.0  Audi Sport ABT Formula E Team      3   Bejing   \n",
       "\n",
       "  match_type  \n",
       "0       Race  \n",
       "1       Race  \n",
       "2       Race  \n",
       "3       Race  \n",
       "4       Race  "
      ]
     },
     "execution_count": 22,
     "metadata": {},
     "output_type": "execute_result"
    }
   ],
   "source": [
    "new_test.head(5)"
   ]
  },
  {
   "cell_type": "code",
   "execution_count": 26,
   "metadata": {},
   "outputs": [],
   "source": [
    "new_test[['GROUP']] = new_test[['GROUP']].fillna(0)\n",
    "new_test[['CROSSING_FINISH_LINE_IN_PIT']] = new_test[['CROSSING_FINISH_LINE_IN_PIT']].fillna('')\n",
    "# new_test['GROUP'] = new_test['GROUP'].replace({'A':0,'B':0})"
   ]
  },
  {
   "cell_type": "code",
   "execution_count": 24,
   "metadata": {},
   "outputs": [
    {
     "data": {
      "text/html": [
       "<div>\n",
       "<style scoped>\n",
       "    .dataframe tbody tr th:only-of-type {\n",
       "        vertical-align: middle;\n",
       "    }\n",
       "\n",
       "    .dataframe tbody tr th {\n",
       "        vertical-align: top;\n",
       "    }\n",
       "\n",
       "    .dataframe thead th {\n",
       "        text-align: right;\n",
       "    }\n",
       "</style>\n",
       "<table border=\"1\" class=\"dataframe\">\n",
       "  <thead>\n",
       "    <tr style=\"text-align: right;\">\n",
       "      <th></th>\n",
       "      <th>LAP_NUMBER</th>\n",
       "      <th>CROSSING_FINISH_LINE_IN_PIT</th>\n",
       "      <th>S1</th>\n",
       "      <th>S2</th>\n",
       "      <th>S3</th>\n",
       "      <th>KPH</th>\n",
       "      <th>DRIVER_NAME</th>\n",
       "      <th>PIT_TIME</th>\n",
       "      <th>TEAM</th>\n",
       "      <th>GROUP</th>\n",
       "      <th>location</th>\n",
       "      <th>match_type</th>\n",
       "    </tr>\n",
       "  </thead>\n",
       "  <tbody>\n",
       "    <tr>\n",
       "      <th>0</th>\n",
       "      <td>1</td>\n",
       "      <td></td>\n",
       "      <td>2295917.0</td>\n",
       "      <td>37598.0</td>\n",
       "      <td>36688.0</td>\n",
       "      <td>5.2</td>\n",
       "      <td>Jarno Trulli</td>\n",
       "      <td>2259620.0</td>\n",
       "      <td>Trulli Formula E Team</td>\n",
       "      <td>1</td>\n",
       "      <td>Bejing</td>\n",
       "      <td>Race</td>\n",
       "    </tr>\n",
       "    <tr>\n",
       "      <th>1</th>\n",
       "      <td>2</td>\n",
       "      <td></td>\n",
       "      <td>39052.0</td>\n",
       "      <td>35808.0</td>\n",
       "      <td>37736.0</td>\n",
       "      <td>110.4</td>\n",
       "      <td>Jarno Trulli</td>\n",
       "      <td>0.0</td>\n",
       "      <td>Trulli Formula E Team</td>\n",
       "      <td>1</td>\n",
       "      <td>Bejing</td>\n",
       "      <td>Race</td>\n",
       "    </tr>\n",
       "    <tr>\n",
       "      <th>2</th>\n",
       "      <td>1</td>\n",
       "      <td></td>\n",
       "      <td>42306.0</td>\n",
       "      <td>36207.0</td>\n",
       "      <td>35301.0</td>\n",
       "      <td>109.2</td>\n",
       "      <td>Lucas di Grassi</td>\n",
       "      <td>0.0</td>\n",
       "      <td>Audi Sport ABT Formula E Team</td>\n",
       "      <td>3</td>\n",
       "      <td>Bejing</td>\n",
       "      <td>Race</td>\n",
       "    </tr>\n",
       "  </tbody>\n",
       "</table>\n",
       "</div>"
      ],
      "text/plain": [
       "   LAP_NUMBER CROSSING_FINISH_LINE_IN_PIT         S1       S2       S3    KPH  \\\n",
       "0           1                              2295917.0  37598.0  36688.0    5.2   \n",
       "1           2                                39052.0  35808.0  37736.0  110.4   \n",
       "2           1                                42306.0  36207.0  35301.0  109.2   \n",
       "\n",
       "       DRIVER_NAME   PIT_TIME                           TEAM  GROUP location  \\\n",
       "0     Jarno Trulli  2259620.0          Trulli Formula E Team      1   Bejing   \n",
       "1     Jarno Trulli        0.0          Trulli Formula E Team      1   Bejing   \n",
       "2  Lucas di Grassi        0.0  Audi Sport ABT Formula E Team      3   Bejing   \n",
       "\n",
       "  match_type  \n",
       "0       Race  \n",
       "1       Race  \n",
       "2       Race  "
      ]
     },
     "execution_count": 24,
     "metadata": {},
     "output_type": "execute_result"
    }
   ],
   "source": [
    "new_test.head(3)"
   ]
  },
  {
   "cell_type": "code",
   "execution_count": 28,
   "metadata": {},
   "outputs": [
    {
     "data": {
      "text/plain": [
       "({'Charles Pic',\n",
       "  'Daniel Abt',\n",
       "  'Franck Montagny',\n",
       "  'Ho-Pin Tung',\n",
       "  'Jaime Alguersuari',\n",
       "  'Jarno Trulli',\n",
       "  \"JÃ©rome d'AmbrosioÂ\\xa0\",\n",
       "  'Karun Chandhok',\n",
       "  'Katherine Legge',\n",
       "  'Lucas di Grassi',\n",
       "  'Michela Cerruti',\n",
       "  'Nelson Piquet JR',\n",
       "  'Nick Heidfeld',\n",
       "  'Nicolas Prost',\n",
       "  'Oriol Servia',\n",
       "  'Sam Bird',\n",
       "  'Sebastien Buemi',\n",
       "  'Stephane Sarrazin',\n",
       "  'Takuma Sato'},\n",
       " 25)"
      ]
     },
     "execution_count": 28,
     "metadata": {},
     "output_type": "execute_result"
    }
   ],
   "source": [
    "set(new_test['DRIVER_NAME']), max(new_test['LAP_NUMBER'])"
   ]
  },
  {
   "cell_type": "code",
   "execution_count": 29,
   "metadata": {},
   "outputs": [],
   "source": [
    "Drivers = set(new_test['DRIVER_NAME'])\n",
    "Max_Laps = max(new_test['LAP_NUMBER'])"
   ]
  },
  {
   "cell_type": "code",
   "execution_count": null,
   "metadata": {},
   "outputs": [],
   "source": [
    "for j in range(1,Max_Laps):\n",
    "    for i in Drivers:\n",
    "        "
   ]
  }
 ],
 "metadata": {
  "kernelspec": {
   "display_name": "Python 3",
   "language": "python",
   "name": "python3"
  },
  "language_info": {
   "codemirror_mode": {
    "name": "ipython",
    "version": 3
   },
   "file_extension": ".py",
   "mimetype": "text/x-python",
   "name": "python",
   "nbconvert_exporter": "python",
   "pygments_lexer": "ipython3",
   "version": "3.7.7"
  }
 },
 "nbformat": 4,
 "nbformat_minor": 4
}
